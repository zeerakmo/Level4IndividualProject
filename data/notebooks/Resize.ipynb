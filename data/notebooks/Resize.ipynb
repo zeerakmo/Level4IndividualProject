{
  "nbformat": 4,
  "nbformat_minor": 0,
  "metadata": {
    "colab": {
      "name": "Resize.ipynb",
      "provenance": []
    },
    "kernelspec": {
      "name": "python3",
      "display_name": "Python 3"
    }
  },
  "cells": [
    {
      "cell_type": "code",
      "metadata": {
        "id": "R5ddqpJU_toN"
      },
      "source": [
        "from PIL import Image\n",
        "\n",
        "basewidth = 300\n",
        "img = Image.open('/content/dataset/00_m_m.jpg')\n",
        "wpercent = (basewidth/float(img.size[0]))\n",
        "hsize = int((float(img.size[1])*float(wpercent)))\n",
        "img = img.resize((basewidth,hsize), Image.ANTIALIAS)\n",
        "img.save('/content/resized/00_m_m.jpg') "
      ],
      "execution_count": 1,
      "outputs": []
    },
    {
      "cell_type": "code",
      "metadata": {
        "colab": {
          "base_uri": "https://localhost:8080/"
        },
        "id": "cOSO0Dk5Ax91",
        "outputId": "22ba28b7-4cae-4e02-868b-7741d2361d38"
      },
      "source": [
        "import os\n",
        "\n",
        "directory = r'/content/dataset'\n",
        "for filename in os.listdir(directory):\n",
        "    if filename.endswith(\".jpg\"):\n",
        "        print(os.path.join(directory, filename))\n",
        "        filepath = (os.path.join(directory, filename))\n",
        "        basewidth = 300\n",
        "        img = Image.open(filepath)\n",
        "        wpercent = (basewidth/float(img.size[0]))\n",
        "        hsize = int((float(img.size[1])*float(wpercent)))\n",
        "        img = img.resize((basewidth,hsize), Image.ANTIALIAS)\n",
        "        ddirectory = r'/content/resized'\n",
        "        filepath = (os.path.join(ddirectory, filename))\n",
        "        img.save(filepath) \n",
        "\n",
        "    else:\n",
        "        continue"
      ],
      "execution_count": 2,
      "outputs": [
        {
          "output_type": "stream",
          "text": [
            "/content/dataset/14_m_r.jpg\n",
            "/content/dataset/16_m_r.jpg\n",
            "/content/dataset/31_f_m.jpg\n",
            "/content/dataset/26_f_m.jpg\n",
            "/content/dataset/32_f_m.jpg\n",
            "/content/dataset/23_m_r.jpg\n",
            "/content/dataset/02_m_m.jpg\n",
            "/content/dataset/28_f_m.jpg\n",
            "/content/dataset/39_f_r.jpg\n",
            "/content/dataset/33_f_m.jpg\n",
            "/content/dataset/11_m_m.jpg\n",
            "/content/dataset/15_m_r.jpg\n",
            "/content/dataset/12_m_r.jpg\n",
            "/content/dataset/27_f_m.jpg\n",
            "/content/dataset/04_m_m.jpg\n",
            "/content/dataset/08_m_m.jpg\n",
            "/content/dataset/36_f_r.jpg\n",
            "/content/dataset/01_m_m.jpg\n",
            "/content/dataset/17_m_r.jpg\n",
            "/content/dataset/00_m_m.jpg\n",
            "/content/dataset/22_m_r.jpg\n",
            "/content/dataset/45_f_r.jpg\n",
            "/content/dataset/03_m_m.jpg\n",
            "/content/dataset/05_m_m.jpg\n",
            "/content/dataset/29_f_m.jpg\n",
            "/content/dataset/07_m_m.jpg\n",
            "/content/dataset/13_m_r.jpg\n",
            "/content/dataset/25_f_m.jpg\n",
            "/content/dataset/46_f_r.jpg\n",
            "/content/dataset/30_f_m.jpg\n",
            "/content/dataset/10_m_m.jpg\n",
            "/content/dataset/40_f_r.jpg\n",
            "/content/dataset/37_f_r.jpg\n",
            "/content/dataset/09_m_m.jpg\n",
            "/content/dataset/41_f_r.jpg\n",
            "/content/dataset/06_m_m.jpg\n",
            "/content/dataset/34_f_m.jpg\n",
            "/content/dataset/47_f_r.jpg\n",
            "/content/dataset/20_m_r.jpg\n",
            "/content/dataset/42_f_r.jpg\n",
            "/content/dataset/18_m_r.jpg\n",
            "/content/dataset/43_f_r.jpg\n",
            "/content/dataset/38_f_r.jpg\n",
            "/content/dataset/21_m_r.jpg\n",
            "/content/dataset/35_f_m.jpg\n",
            "/content/dataset/24_f_m.jpg\n",
            "/content/dataset/19_m_r.jpg\n",
            "/content/dataset/44_f_r.jpg\n"
          ],
          "name": "stdout"
        }
      ]
    },
    {
      "cell_type": "code",
      "metadata": {
        "colab": {
          "base_uri": "https://localhost:8080/"
        },
        "id": "4IO05c4pCKEZ",
        "outputId": "027f067f-dd46-4ece-b38a-ca82f0f6236d"
      },
      "source": [
        "!zip -r /content/dataset.zip /content/dataset"
      ],
      "execution_count": 4,
      "outputs": [
        {
          "output_type": "stream",
          "text": [
            "  adding: content/dataset/ (stored 0%)\n",
            "  adding: content/dataset/14_m_r.jpg (deflated 1%)\n",
            "  adding: content/dataset/16_m_r.jpg (deflated 1%)\n",
            "  adding: content/dataset/31_f_m.jpg (deflated 1%)\n",
            "  adding: content/dataset/26_f_m.jpg (deflated 1%)\n",
            "  adding: content/dataset/32_f_m.jpg (deflated 1%)\n",
            "  adding: content/dataset/23_m_r.jpg (deflated 1%)\n",
            "  adding: content/dataset/02_m_m.jpg (deflated 1%)\n",
            "  adding: content/dataset/28_f_m.jpg (deflated 1%)\n",
            "  adding: content/dataset/39_f_r.jpg (deflated 1%)\n",
            "  adding: content/dataset/33_f_m.jpg (deflated 1%)\n",
            "  adding: content/dataset/11_m_m.jpg (deflated 1%)\n",
            "  adding: content/dataset/15_m_r.jpg (deflated 1%)\n",
            "  adding: content/dataset/12_m_r.jpg (deflated 1%)\n",
            "  adding: content/dataset/27_f_m.jpg (deflated 1%)\n",
            "  adding: content/dataset/04_m_m.jpg (deflated 2%)\n",
            "  adding: content/dataset/08_m_m.jpg (deflated 1%)\n",
            "  adding: content/dataset/36_f_r.jpg (deflated 1%)\n",
            "  adding: content/dataset/01_m_m.jpg (deflated 1%)\n",
            "  adding: content/dataset/17_m_r.jpg (deflated 1%)\n",
            "  adding: content/dataset/00_m_m.jpg (deflated 1%)\n",
            "  adding: content/dataset/22_m_r.jpg (deflated 1%)\n",
            "  adding: content/dataset/45_f_r.jpg (deflated 1%)\n",
            "  adding: content/dataset/03_m_m.jpg (deflated 1%)\n",
            "  adding: content/dataset/05_m_m.jpg (deflated 1%)\n",
            "  adding: content/dataset/29_f_m.jpg (deflated 2%)\n",
            "  adding: content/dataset/07_m_m.jpg (deflated 1%)\n",
            "  adding: content/dataset/13_m_r.jpg (deflated 1%)\n",
            "  adding: content/dataset/25_f_m.jpg (deflated 1%)\n",
            "  adding: content/dataset/46_f_r.jpg (deflated 1%)\n",
            "  adding: content/dataset/30_f_m.jpg (deflated 1%)\n",
            "  adding: content/dataset/10_m_m.jpg (deflated 1%)\n",
            "  adding: content/dataset/40_f_r.jpg (deflated 1%)\n",
            "  adding: content/dataset/37_f_r.jpg (deflated 1%)\n",
            "  adding: content/dataset/09_m_m.jpg (deflated 1%)\n",
            "  adding: content/dataset/41_f_r.jpg (deflated 1%)\n",
            "  adding: content/dataset/06_m_m.jpg (deflated 1%)\n",
            "  adding: content/dataset/34_f_m.jpg (deflated 1%)\n",
            "  adding: content/dataset/47_f_r.jpg (deflated 1%)\n",
            "  adding: content/dataset/20_m_r.jpg (deflated 1%)\n",
            "  adding: content/dataset/42_f_r.jpg (deflated 1%)\n",
            "  adding: content/dataset/18_m_r.jpg (deflated 1%)\n",
            "  adding: content/dataset/43_f_r.jpg (deflated 1%)\n",
            "  adding: content/dataset/38_f_r.jpg (deflated 2%)\n",
            "  adding: content/dataset/21_m_r.jpg (deflated 2%)\n",
            "  adding: content/dataset/35_f_m.jpg (deflated 1%)\n",
            "  adding: content/dataset/24_f_m.jpg (deflated 1%)\n",
            "  adding: content/dataset/19_m_r.jpg (deflated 1%)\n",
            "  adding: content/dataset/44_f_r.jpg (deflated 1%)\n"
          ],
          "name": "stdout"
        }
      ]
    },
    {
      "cell_type": "code",
      "metadata": {
        "colab": {
          "base_uri": "https://localhost:8080/",
          "height": 305
        },
        "id": "WWJfUPpHCamc",
        "outputId": "19621f2a-25ef-4d61-a657-9209b55dadef"
      },
      "source": [
        "from google.colab import files\n",
        "files.download(\"/content/file.zip\")"
      ],
      "execution_count": 5,
      "outputs": [
        {
          "output_type": "error",
          "ename": "FileNotFoundError",
          "evalue": "ignored",
          "traceback": [
            "\u001b[0;31m---------------------------------------------------------------------------\u001b[0m",
            "\u001b[0;31mFileNotFoundError\u001b[0m                         Traceback (most recent call last)",
            "\u001b[0;32m<ipython-input-5-94b2842221ca>\u001b[0m in \u001b[0;36m<module>\u001b[0;34m()\u001b[0m\n\u001b[1;32m      1\u001b[0m \u001b[0;32mfrom\u001b[0m \u001b[0mgoogle\u001b[0m\u001b[0;34m.\u001b[0m\u001b[0mcolab\u001b[0m \u001b[0;32mimport\u001b[0m \u001b[0mfiles\u001b[0m\u001b[0;34m\u001b[0m\u001b[0;34m\u001b[0m\u001b[0m\n\u001b[0;32m----> 2\u001b[0;31m \u001b[0mfiles\u001b[0m\u001b[0;34m.\u001b[0m\u001b[0mdownload\u001b[0m\u001b[0;34m(\u001b[0m\u001b[0;34m\"/content/file.zip\"\u001b[0m\u001b[0;34m)\u001b[0m\u001b[0;34m\u001b[0m\u001b[0;34m\u001b[0m\u001b[0m\n\u001b[0m",
            "\u001b[0;32m/usr/local/lib/python3.6/dist-packages/google/colab/files.py\u001b[0m in \u001b[0;36mdownload\u001b[0;34m(filename)\u001b[0m\n\u001b[1;32m    141\u001b[0m       \u001b[0;32mraise\u001b[0m \u001b[0mOSError\u001b[0m\u001b[0;34m(\u001b[0m\u001b[0mmsg\u001b[0m\u001b[0;34m)\u001b[0m\u001b[0;34m\u001b[0m\u001b[0;34m\u001b[0m\u001b[0m\n\u001b[1;32m    142\u001b[0m     \u001b[0;32melse\u001b[0m\u001b[0;34m:\u001b[0m\u001b[0;34m\u001b[0m\u001b[0;34m\u001b[0m\u001b[0m\n\u001b[0;32m--> 143\u001b[0;31m       \u001b[0;32mraise\u001b[0m \u001b[0mFileNotFoundError\u001b[0m\u001b[0;34m(\u001b[0m\u001b[0mmsg\u001b[0m\u001b[0;34m)\u001b[0m  \u001b[0;31m# pylint: disable=undefined-variable\u001b[0m\u001b[0;34m\u001b[0m\u001b[0;34m\u001b[0m\u001b[0m\n\u001b[0m\u001b[1;32m    144\u001b[0m \u001b[0;34m\u001b[0m\u001b[0m\n\u001b[1;32m    145\u001b[0m   \u001b[0mcomm_manager\u001b[0m \u001b[0;34m=\u001b[0m \u001b[0m_IPython\u001b[0m\u001b[0;34m.\u001b[0m\u001b[0mget_ipython\u001b[0m\u001b[0;34m(\u001b[0m\u001b[0;34m)\u001b[0m\u001b[0;34m.\u001b[0m\u001b[0mkernel\u001b[0m\u001b[0;34m.\u001b[0m\u001b[0mcomm_manager\u001b[0m\u001b[0;34m\u001b[0m\u001b[0;34m\u001b[0m\u001b[0m\n",
            "\u001b[0;31mFileNotFoundError\u001b[0m: Cannot find file: /content/file.zip"
          ]
        }
      ]
    },
    {
      "cell_type": "code",
      "metadata": {
        "id": "VhqMSQrMCc40"
      },
      "source": [
        ""
      ],
      "execution_count": null,
      "outputs": []
    }
  ]
}