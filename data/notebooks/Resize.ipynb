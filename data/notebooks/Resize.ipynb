{
  "nbformat": 4,
  "nbformat_minor": 0,
  "metadata": {
    "colab": {
      "name": "Resize.ipynb",
      "provenance": [],
      "collapsed_sections": []
    },
    "kernelspec": {
      "name": "python3",
      "display_name": "Python 3"
    }
  },
  "cells": [
    {
      "cell_type": "markdown",
      "metadata": {
        "id": "_H5cchKka-sh"
      },
      "source": [
        "File Structure as follows:\r\n",
        "\r\n",
        "\r\n",
        "*   content\r\n",
        "  *   sample_data\r\n",
        "  *   dataset\r\n",
        "      *   {48 photos from 5025 dataset}\r\n",
        "\r\n"
      ]
    },
    {
      "cell_type": "code",
      "metadata": {
        "colab": {
          "base_uri": "https://localhost:8080/"
        },
        "id": "cOSO0Dk5Ax91",
        "outputId": "22ba28b7-4cae-4e02-868b-7741d2361d38"
      },
      "source": [
        "import os\n",
        "from PIL import Image\n",
        "\n",
        "directory = r'/content/dataset'\n",
        "for filename in os.listdir(directory):\n",
        "    if filename.endswith(\".jpg\"):\n",
        "        print(os.path.join(directory, filename))\n",
        "        filepath = (os.path.join(directory, filename))\n",
        "        basewidth = 300\n",
        "        img = Image.open(filepath)\n",
        "        wpercent = (basewidth/float(img.size[0]))\n",
        "        hsize = int((float(img.size[1])*float(wpercent)))\n",
        "        img = img.resize((basewidth,hsize), Image.ANTIALIAS)\n",
        "        ddirectory = r'/content/resized'\n",
        "        filepath = (os.path.join(ddirectory, filename))\n",
        "        img.save(filepath) \n",
        "\n",
        "    else:\n",
        "        continue"
      ],
      "execution_count": null,
      "outputs": [
        {
          "output_type": "stream",
          "text": [
            "/content/dataset/14_m_r.jpg\n",
            "/content/dataset/16_m_r.jpg\n",
            "/content/dataset/31_f_m.jpg\n",
            "/content/dataset/26_f_m.jpg\n",
            "/content/dataset/32_f_m.jpg\n",
            "/content/dataset/23_m_r.jpg\n",
            "/content/dataset/02_m_m.jpg\n",
            "/content/dataset/28_f_m.jpg\n",
            "/content/dataset/39_f_r.jpg\n",
            "/content/dataset/33_f_m.jpg\n",
            "/content/dataset/11_m_m.jpg\n",
            "/content/dataset/15_m_r.jpg\n",
            "/content/dataset/12_m_r.jpg\n",
            "/content/dataset/27_f_m.jpg\n",
            "/content/dataset/04_m_m.jpg\n",
            "/content/dataset/08_m_m.jpg\n",
            "/content/dataset/36_f_r.jpg\n",
            "/content/dataset/01_m_m.jpg\n",
            "/content/dataset/17_m_r.jpg\n",
            "/content/dataset/00_m_m.jpg\n",
            "/content/dataset/22_m_r.jpg\n",
            "/content/dataset/45_f_r.jpg\n",
            "/content/dataset/03_m_m.jpg\n",
            "/content/dataset/05_m_m.jpg\n",
            "/content/dataset/29_f_m.jpg\n",
            "/content/dataset/07_m_m.jpg\n",
            "/content/dataset/13_m_r.jpg\n",
            "/content/dataset/25_f_m.jpg\n",
            "/content/dataset/46_f_r.jpg\n",
            "/content/dataset/30_f_m.jpg\n",
            "/content/dataset/10_m_m.jpg\n",
            "/content/dataset/40_f_r.jpg\n",
            "/content/dataset/37_f_r.jpg\n",
            "/content/dataset/09_m_m.jpg\n",
            "/content/dataset/41_f_r.jpg\n",
            "/content/dataset/06_m_m.jpg\n",
            "/content/dataset/34_f_m.jpg\n",
            "/content/dataset/47_f_r.jpg\n",
            "/content/dataset/20_m_r.jpg\n",
            "/content/dataset/42_f_r.jpg\n",
            "/content/dataset/18_m_r.jpg\n",
            "/content/dataset/43_f_r.jpg\n",
            "/content/dataset/38_f_r.jpg\n",
            "/content/dataset/21_m_r.jpg\n",
            "/content/dataset/35_f_m.jpg\n",
            "/content/dataset/24_f_m.jpg\n",
            "/content/dataset/19_m_r.jpg\n",
            "/content/dataset/44_f_r.jpg\n"
          ],
          "name": "stdout"
        }
      ]
    },
    {
      "cell_type": "code",
      "metadata": {
        "id": "dETubhDWa0Sl"
      },
      "source": [
        "!zip -r /content/dataset.zip /content/dataset\r\n",
        "from google.colab import files\r\n"
      ],
      "execution_count": null,
      "outputs": []
    },
    {
      "cell_type": "code",
      "metadata": {
        "id": "s0aLP6rza3Rv"
      },
      "source": [
        "files.download(\"/content/file.zip\")"
      ],
      "execution_count": null,
      "outputs": []
    }
  ]
}