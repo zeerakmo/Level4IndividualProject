{
  "nbformat": 4,
  "nbformat_minor": 0,
  "metadata": {
    "colab": {
      "name": "DLIB.ipynb",
      "provenance": [],
      "collapsed_sections": []
    },
    "kernelspec": {
      "name": "python3",
      "display_name": "Python 3"
    }
  },
  "cells": [
    {
      "cell_type": "markdown",
      "metadata": {
        "id": "EkM-uFCmXrVM"
      },
      "source": [
        "File Structure as follows:\r\n",
        "\r\n",
        "\r\n",
        "\r\n",
        "*   content\r\n",
        "  *   sample_data\r\n",
        "  *   shape_predictor_68_face_landmarks.dat\r\n",
        "  *   {48 photos from 5025 dataset}\r\n",
        "\r\n",
        "\r\n",
        "\r\n"
      ]
    },
    {
      "cell_type": "code",
      "metadata": {
        "id": "IhU-hFzaoIhP"
      },
      "source": [
        "from imutils import face_utils\n",
        "import numpy as np\n",
        "import argparse\n",
        "import imutils\n",
        "import dlib\n",
        "from google.colab.patches import cv2_imshow"
      ],
      "execution_count": 1,
      "outputs": []
    },
    {
      "cell_type": "code",
      "metadata": {
        "id": "EM0LVdvfzAhl"
      },
      "source": [
        "!wget -nd https://github.com/JeffTrain/selfie/raw/master/shape_predictor_68_face_landmarks.dat\n"
      ],
      "execution_count": null,
      "outputs": []
    },
    {
      "cell_type": "code",
      "metadata": {
        "id": "oVfS6H1wojLP"
      },
      "source": [
        "shape_predictor = \"/content/shape_predictor_68_face_landmarks.dat\""
      ],
      "execution_count": null,
      "outputs": []
    },
    {
      "cell_type": "code",
      "metadata": {
        "id": "SopvtLA5vMXH"
      },
      "source": [
        "import cv2\n",
        "import os\n",
        "dlib_annotation={}\n",
        "detector = dlib.get_frontal_face_detector()\n",
        "\n",
        "predictor = dlib.shape_predictor(shape_predictor)\n",
        "\n",
        "for filename in os.listdir(\"/content/\"):\n",
        "  if filename.endswith(\".jpg\"):\n",
        "    if (filename.split(\"_\")[0][0] == '0'):\n",
        "      id = int(filename.split(\"_\")[0][1])\n",
        "    else:\n",
        "      id = int(filename.split(\"_\")[0])\n",
        "\n",
        "    bb={}\n",
        "    lm={}\n",
        "\n",
        "    image = cv2.imread(\"/content/1/\"+filename)\n",
        "    #print(filename)\n",
        "    gray = cv2.cvtColor(image, cv2.COLOR_BGR2GRAY)\n",
        "    rects = detector(gray, 1)\n",
        "\n",
        "    #print(rects)\n",
        "    shape = predictor(gray, rects[0])\n",
        "    shape = face_utils.shape_to_np(shape)\n",
        "\n",
        "    left_eye_x = (float(shape[36][0]) + float(shape[39][0]))/2\n",
        "    left_eye_y = (float(shape[36][1]) + float(shape[39][1]))/2\n",
        "    left_eye = [left_eye_x,left_eye_y]\n",
        "\n",
        "    right_eye_x = (float(shape[42][0]) + float(shape[45][0]))/2\n",
        "    right_eye_y = (float(shape[42][1]) + float(shape[45][1]))/2\n",
        "    right_eye = [right_eye_x,right_eye_y]\n",
        "\n",
        "    nose = [float(shape[30][0]),float(shape[30][1])]\n",
        "\n",
        "    left_mouth = [float(shape[48][0]),float(shape[48][1])]\n",
        "    right_mouth = [float(shape[54][0]),float(shape[54][1])]\n",
        "\n",
        "    (x, y, w, h) = face_utils.rect_to_bb(rects[0])\n",
        "\n",
        "    bb = {\"x\":float(x),\"y\":float(y),\"w\":float(w),\"h\":float(h)}\n",
        "    lm ={'left_eye': left_eye, 'right_eye': right_eye, 'nose': nose, 'left_mouth': left_mouth, 'right_mouth': right_mouth}\n",
        "    dlib_annotation[id]={\"bounding_box\":bb,\"landmarks\":lm}\n",
        "\n",
        "\n"
      ],
      "execution_count": null,
      "outputs": []
    },
    {
      "cell_type": "code",
      "metadata": {
        "id": "K82JzVjQ0jW1"
      },
      "source": [
        "print(dlib_annotation))\n"
      ],
      "execution_count": null,
      "outputs": []
    },
    {
      "cell_type": "code",
      "metadata": {
        "id": "Vbt6xifC10RN"
      },
      "source": [
        "import json\n",
        "\n",
        "json = json.dumps(dlib_annotation)\n",
        "f = open(\"dlib_annotation.json\",\"w\")\n",
        "f.write(json)\n",
        "f.close()"
      ],
      "execution_count": null,
      "outputs": []
    },
    {
      "cell_type": "code",
      "metadata": {
        "id": "Zw3sxb1OwLKJ"
      },
      "source": [
        "# loop over the face detections\n",
        "from google.colab.patches import cv2_imshow\n",
        "for (i, rect) in enumerate(rects):\n",
        "\t# determine the facial landmarks for the face region, then\n",
        "\t# convert the facial landmark (x, y)-coordinates to a NumPy\n",
        "\t# array\n",
        "\n",
        "\tshape = predictor(gray, rect)\n",
        "\tshape = face_utils.shape_to_np(shape)\n",
        "\t# convert dlib's rectangle to a OpenCV-style bounding box\n",
        "\t# [i.e., (x, y, w, h)], then draw the face bounding box\n",
        "\t(x, y, w, h) = face_utils.rect_to_bb(rect)\n",
        "\tcv2.rectangle(image, (x, y), (x + w, y + h), (0, 255, 0), 2)\n",
        "\t# show the face number\n",
        "\tcv2.putText(image, \"Face #{}\".format(i + 1), (x - 10, y - 10),\n",
        "\t\tcv2.FONT_HERSHEY_SIMPLEX, 0.5, (0, 255, 0), 2)\n",
        "\t# loop over the (x, y)-coordinate\\s for the facial landmarks\n",
        "\t# and draw them on the image\n",
        "\tfor (x, y) in shape:\n",
        "\t\tcv2.circle(image, (x, y), 1, (0, 0, 255), -1)\n",
        "# show the output image with the face detections + facial landmarks\n",
        "cv2_imshow(image)\n",
        "cv2.waitKey(0)"
      ],
      "execution_count": null,
      "outputs": []
    },
    {
      "cell_type": "code",
      "metadata": {
        "id": "hDyf2pB8okgg"
      },
      "source": [
        ""
      ],
      "execution_count": null,
      "outputs": []
    }
  ]
}