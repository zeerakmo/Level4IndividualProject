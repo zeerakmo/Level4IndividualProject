{
  "nbformat": 4,
  "nbformat_minor": 0,
  "metadata": {
    "colab": {
      "name": "ViolaJones.ipynb",
      "provenance": [],
      "collapsed_sections": []
    },
    "kernelspec": {
      "name": "python3",
      "display_name": "Python 3"
    }
  },
  "cells": [
    {
      "cell_type": "markdown",
      "metadata": {
        "id": "4lMwmjhcYdUW"
      },
      "source": [
        "File Structure as follows:\r\n",
        "\r\n",
        "\r\n",
        "\r\n",
        "*   content\r\n",
        "  *   sample_data\r\n",
        "  *   {48 photos from 5025 dataset}\r\n",
        "\r\n",
        "\r\n",
        "\r\n"
      ]
    },
    {
      "cell_type": "code",
      "metadata": {
        "id": "EO-HdX7VfN1c"
      },
      "source": [
        "\n",
        "\n",
        "import cv2\n",
        "import matplotlib.pyplot as plt\n",
        "import dlib\n",
        "from imutils import face_utils\n",
        "font = cv2.FONT_HERSHEY_SIMPLEX\n"
      ],
      "execution_count": 1,
      "outputs": []
    },
    {
      "cell_type": "code",
      "metadata": {
        "id": "0UAceETKfYM5"
      },
      "source": [
        "\n",
        "faceCascade = cv2.CascadeClassifier(cv2.data.haarcascades + 'haarcascade_frontalface_default.xml')\n"
      ],
      "execution_count": 4,
      "outputs": []
    },
    {
      "cell_type": "code",
      "metadata": {
        "id": "X1BgK9q0hJHn"
      },
      "source": [
        "# Detect faces\n",
        "import os\n",
        "violajones_annotations={}\n",
        "for filename in os.listdir(\"/content/\"):\n",
        "  if filename.endswith(\".jpg\"):\n",
        "    if (filename.split(\"_\")[0][0] == '0'):\n",
        "      id = int(filename.split(\"_\")[0][1])\n",
        "    else:\n",
        "      id = int(filename.split(\"_\")[0])\n",
        "\n",
        "    bb={}\n",
        "    gray = cv2.imread('/content/'+filename, 0)\n",
        "    faces = faceCascade.detectMultiScale(\n",
        "    gray,\n",
        "    scaleFactor=1.1,\n",
        "    minNeighbors=5,\n",
        "    flags=cv2.CASCADE_SCALE_IMAGE\n",
        "    )\n",
        "\n",
        "    print((faces.shape),filename)\n",
        "    count = 0\n",
        "    for (x, y, w, h) in faces: \n",
        "        # Draw rectangle around the face\n",
        "        cv2.rectangle(gray, (x, y), (x+w, y+h), (255, 255, 255), 3)\n",
        "        bb[count]={\"x\":float(x),\"y\":float(y),\"w\":float(w),\"h\":float(h)}\n",
        "        count = count +1\n",
        "    violajones_annotations[id]=bb\n",
        "    \n",
        "\n",
        "    "
      ],
      "execution_count": null,
      "outputs": []
    },
    {
      "cell_type": "code",
      "metadata": {
        "id": "F1vU0y8O76Qw"
      },
      "source": [
        "print(violajones_annotations)"
      ],
      "execution_count": null,
      "outputs": []
    },
    {
      "cell_type": "code",
      "metadata": {
        "id": "6d4i3MUX71gJ"
      },
      "source": [
        "import json\n",
        "\n",
        "json = json.dumps(violajones_annotations)\n",
        "f = open(\"violajones_annotations.json\",\"w\")\n",
        "f.write(json)\n",
        "f.close()"
      ],
      "execution_count": null,
      "outputs": []
    }
  ]
}