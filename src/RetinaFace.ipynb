{
  "nbformat": 4,
  "nbformat_minor": 0,
  "metadata": {
    "colab": {
      "name": "RetinaFace",
      "provenance": [],
      "collapsed_sections": []
    },
    "kernelspec": {
      "name": "python3",
      "display_name": "Python 3"
    }
  },
  "cells": [
    {
      "cell_type": "markdown",
      "metadata": {
        "id": "qFGVFxdMTx3E"
      },
      "source": [
        "File Structure as follows:\r\n",
        "\r\n",
        "*   content\r\n",
        "  *   sample_data\r\n",
        "  *   {48 photos from 5025 dataset}\r\n",
        "\r\n",
        "\r\n",
        "\r\n",
        "\r\n",
        "\r\n",
        "\r\n",
        "\r\n",
        "\r\n",
        "\r\n",
        "\r\n"
      ]
    },
    {
      "cell_type": "code",
      "metadata": {
        "id": "u140zXvUUz0r"
      },
      "source": [
        "!pip install -U retinaface_pytorch > /dev/null"
      ],
      "execution_count": 3,
      "outputs": []
    },
    {
      "cell_type": "code",
      "metadata": {
        "id": "nSm7LIxar93t"
      },
      "source": [
        "!pip install -U ipykernel\n",
        "!pip install modin[dask]"
      ],
      "execution_count": null,
      "outputs": []
    },
    {
      "cell_type": "code",
      "metadata": {
        "id": "kkwv9AwgZPSE"
      },
      "source": [
        "import cv2"
      ],
      "execution_count": 4,
      "outputs": []
    },
    {
      "cell_type": "code",
      "metadata": {
        "id": "AebSwGm0ZUPM"
      },
      "source": [
        "from matplotlib import pyplot as plt\n",
        "from retinaface.pre_trained_models import get_model\n",
        "from retinaface.utils import vis_annotations\n",
        "import numpy as np"
      ],
      "execution_count": 5,
      "outputs": []
    },
    {
      "cell_type": "code",
      "metadata": {
        "id": "lzCjM8qDbgyk"
      },
      "source": [
        "plt.rcParams[\"figure.figsize\"] = (15, 15)"
      ],
      "execution_count": 6,
      "outputs": []
    },
    {
      "cell_type": "code",
      "metadata": {
        "id": "ncKpxhI-TlM3"
      },
      "source": [
        "model = get_model(\"resnet50_2020-07-20\", max_size=(300))\r\n",
        "model.eval()"
      ],
      "execution_count": null,
      "outputs": []
    },
    {
      "cell_type": "code",
      "metadata": {
        "id": "0skaQEV_g4UC"
      },
      "source": [
        "import os\n",
        "RetinaNet_annotated = {}\n",
        "\n",
        "\n",
        "for filename in os.listdir(\"/content/\"):\n",
        "  if filename.endswith(\".jpg\"):\n",
        "    if (filename.split(\"_\")[0][0] == '0'):\n",
        "      id = int(filename.split(\"_\")[0][1])\n",
        "    else:\n",
        "      id = int(filename.split(\"_\")[0])\n",
        "\n",
        "\n",
        "    image = cv2.imread(filename)\n",
        "    image = cv2.cvtColor(image, cv2.COLOR_BGR2RGB)    \n",
        "\n",
        "    annotation = model.predict_jsons(image)\n",
        "    annotation = annotation[0]\n",
        "    bb = {}\n",
        "    lm = {}\n",
        "    bb = {\"x\":float(annotation[\"bbox\"][0]),\"y\":float(annotation[\"bbox\"][1]),\"w\":float(annotation[\"bbox\"][2])-float(annotation[\"bbox\"][0]),\"h\":float(annotation[\"bbox\"][3])-float(annotation[\"bbox\"][1])}\n",
        "    lm ={'left_eye': annotation[\"landmarks\"][0], 'right_eye': annotation[\"landmarks\"][1], 'nose': annotation[\"landmarks\"][2], 'left_mouth': annotation[\"landmarks\"][3], 'right_mouth': annotation[\"landmarks\"][4]}\n",
        "    RetinaNet_annotated[id]={\"bounding_box\":bb,\"landmarks\":lm}\n",
        "print(RetinaNet_annotated)\n",
        "\n"
      ],
      "execution_count": null,
      "outputs": []
    },
    {
      "cell_type": "code",
      "metadata": {
        "id": "FaHO8GqbonIx"
      },
      "source": [
        "\n",
        "print(RetinaNet_annotated)"
      ],
      "execution_count": null,
      "outputs": []
    },
    {
      "cell_type": "code",
      "metadata": {
        "id": "U261lgr0pnYG"
      },
      "source": [
        "import json\n",
        "json = json.dumps(RetinaNet_annotated)\n",
        "f = open(\"retinanet_annotated.json\",\"w\")\n",
        "f.write(json)\n",
        "f.close()"
      ],
      "execution_count": null,
      "outputs": []
    }
  ]
}